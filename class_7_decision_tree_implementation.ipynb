{
 "cells": [
  {
   "cell_type": "code",
   "execution_count": 10,
   "metadata": {},
   "outputs": [],
   "source": [
    "import pandas as pd\n",
    "import numpy as np\n",
    "import math"
   ]
  },
  {
   "cell_type": "code",
   "execution_count": 11,
   "metadata": {},
   "outputs": [],
   "source": [
    "def buildtree(df,dt,unused_features):\n",
    "    if not unused_features:                           #base cases:\n",
    "        print('count of 0(false):',(dt['y']==0).sum())\n",
    "        print('count of 1(true):',(dt['y']==1).sum())\n",
    "        print('Current entropy : ', 0)\n",
    "        print('RootNode reached')                        #1. unused is empty\n",
    "        print(\"\\n\")\n",
    "        return\n",
    "    #li=np.array(dt)\n",
    "    #p=np.unique(li)\n",
    "    p=set(dt['y'])\n",
    "    if(len(p)==1):                                       #2. y contains only one distinct value\n",
    "        print('count of 0(false):',(dt['y']==0).sum())\n",
    "        print('count of 1(true):',(dt['y']==1).sum())\n",
    "        print('Current entropy : ', 0)                   # at root node entropy=0\n",
    "        print('RootNode reached1')\n",
    "        print(\"\\n\")\n",
    "        return\n",
    "    bestfeature=\"\"\n",
    "    count1=99999\n",
    "    for f in unused_features:                         #looping over unused_features\n",
    "        possible_values=set(df[f])\n",
    "        temp=0\n",
    "        for i in possible_values:                    # for i in each unique value in each unused feature\n",
    "            y=dt[df[f] == i]                         #subset of dt and df where df[f]==i\n",
    "            p=pd.value_counts(y.values.flatten())\n",
    "            p=np.array(p)\n",
    "            temp1=p.size\n",
    "            maxtemp=0                               #calculating error at each level\n",
    "            for k in range(temp1):\n",
    "                if(p[k]>maxtemp):\n",
    "                     maxtemp=p[k]\n",
    "            l=y.count()\n",
    "            total=l[0]\n",
    "            error=total-maxtemp\n",
    "            temp+=error\n",
    "            \n",
    "        if(temp<count1):                          #finding the best feature using error count\n",
    "            count1=temp\n",
    "            bestfeature=f\n",
    "    a=(dt['y']==0).sum()\n",
    "    b=(dt['y']==1).sum()\n",
    "    pa=a/(a+b)\n",
    "    pb=b/(a+b)\n",
    "    a1=(df[bestfeature]==0).sum()\n",
    "    b1=(df[bestfeature]==1).sum()\n",
    "    pa1=a/(a+b)\n",
    "    pb1=b/(a+b)\n",
    "    sp=-1*((pa1*math.log(pa1,10)) + (pb1*math.log(pb1,10)))          #split info\n",
    "    en=-1*((pa*math.log(pa,2)) + (pb*math.log(pb,2)) )               #entropy\n",
    "    print('count of 0(false):',(dt['y']==0).sum())                         #count of false\n",
    "    print('count of 1(true):',(dt['y']==1).sum())                         #count of true\n",
    "    print(\"Current entropy:  \", en)                                                #calculating entropy\n",
    "    print(\"Split info:  \",sp)                                                      #calculating split info\n",
    "    print(\"Best Feature is: \",bestfeature)                                              # best feature name\n",
    "    print (\"\\n\")\n",
    "    unused_features.remove(bestfeature)                                                 #removing best_feature from unused columns\n",
    "    for a in set(df[bestfeature]):\n",
    "        buildtree(df[df[bestfeature]==a], dt[df[bestfeature]==a], unused_features)       #recursive call for each unique value of best feature"
   ]
  },
  {
   "cell_type": "code",
   "execution_count": 12,
   "metadata": {},
   "outputs": [
    {
     "name": "stdout",
     "output_type": "stream",
     "text": [
      "count of 0(false): 1\n",
      "count of 1(true): 3\n",
      "Current entropy:   0.8112781244591328\n",
      "Split info:   0.24421905028821553\n",
      "Best Feature is:  x1\n",
      "\n",
      "\n",
      "count of 0(false): 1\n",
      "count of 1(true): 1\n",
      "Current entropy:   1.0\n",
      "Split info:   0.30102999566398114\n",
      "Best Feature is:  x2\n",
      "\n",
      "\n",
      "count of 0(false): 1\n",
      "count of 1(true): 0\n",
      "Current entropy :  0\n",
      "RootNode reached\n",
      "\n",
      "\n",
      "count of 0(false): 0\n",
      "count of 1(true): 1\n",
      "Current entropy :  0\n",
      "RootNode reached\n",
      "\n",
      "\n",
      "count of 0(false): 0\n",
      "count of 1(true): 2\n",
      "Current entropy :  0\n",
      "RootNode reached\n",
      "\n",
      "\n"
     ]
    }
   ],
   "source": [
    "ar=np.array([[0,0,0],[0,1,1],[1,0,1],[1,1,1]])       # OR function\n",
    "d=pd.DataFrame(ar,columns=['x1','x2','y'])           # convert in dataframe\n",
    "d1=d.iloc[:,0:-1]                                    # features\n",
    "d2=d.iloc[:,-1:]                                     #label\n",
    "unused_features=['x1','x2']\n",
    "buildtree(d1,d2,unused_features)                    #decision tree fn "
   ]
  },
  {
   "cell_type": "code",
   "execution_count": null,
   "metadata": {},
   "outputs": [],
   "source": []
  }
 ],
 "metadata": {
  "kernelspec": {
   "display_name": "Python 3",
   "language": "python",
   "name": "python3"
  },
  "language_info": {
   "codemirror_mode": {
    "name": "ipython",
    "version": 3
   },
   "file_extension": ".py",
   "mimetype": "text/x-python",
   "name": "python",
   "nbconvert_exporter": "python",
   "pygments_lexer": "ipython3",
   "version": "3.6.4"
  }
 },
 "nbformat": 4,
 "nbformat_minor": 2
}
